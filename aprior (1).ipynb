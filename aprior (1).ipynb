{
  "cells": [
    {
      "cell_type": "code",
      "execution_count": 16,
      "id": "63eef6a8-5a70-41e0-9a69-e285c4b3c7a6",
      "metadata": {
        "colab": {
          "base_uri": "https://localhost:8080/"
        },
        "id": "63eef6a8-5a70-41e0-9a69-e285c4b3c7a6",
        "outputId": "2222482a-6ecd-460d-8973-251474870d8f"
      },
      "outputs": [
        {
          "output_type": "stream",
          "name": "stdout",
          "text": [
            "<class 'pandas.core.frame.DataFrame'>\n",
            "RangeIndex: 38765 entries, 0 to 38764\n",
            "Data columns (total 3 columns):\n",
            " #   Column           Non-Null Count  Dtype \n",
            "---  ------           --------------  ----- \n",
            " 0   Member_number    38765 non-null  int64 \n",
            " 1   Date             38765 non-null  object\n",
            " 2   itemDescription  38765 non-null  object\n",
            "dtypes: int64(1), object(2)\n",
            "memory usage: 908.7+ KB\n",
            "None\n"
          ]
        }
      ],
      "source": [
        "import pandas as pd\n",
        "from mlxtend.preprocessing import TransactionEncoder\n",
        "from mlxtend.frequent_patterns import apriori\n",
        "from mlxtend.frequent_patterns import association_rules\n",
        "import matplotlib.pyplot as plt\n",
        "df = pd.read_csv('Groceries_dataset.csv')\n",
        "df.head()\n",
        "print(df.info())"
      ]
    },
    {
      "cell_type": "code",
      "execution_count": 9,
      "id": "2857d986-7595-4697-9e0e-ac4bedc0965a",
      "metadata": {
        "colab": {
          "base_uri": "https://localhost:8080/"
        },
        "id": "2857d986-7595-4697-9e0e-ac4bedc0965a",
        "outputId": "6f356189-de2d-4559-aeb2-a9a4afe19f75"
      },
      "outputs": [
        {
          "output_type": "stream",
          "name": "stdout",
          "text": [
            "\n",
            "Number of unique members: 3898\n"
          ]
        }
      ],
      "source": [
        "\n",
        "\n",
        "print(\"\\nNumber of unique members:\", df['Member_number'].nunique())\n",
        "transactions = df.groupby('Member_number')['itemDescription'].apply(list).values.tolist()\n",
        "te = TransactionEncoder()\n",
        "te_ary = te.fit(transactions).transform(transactions)\n",
        "df_encoded = pd.DataFrame(te_ary, columns=te.columns_)\n"
      ]
    },
    {
      "cell_type": "code",
      "execution_count": 26,
      "id": "68039acb-b7be-4e5a-b403-5d12c7501586",
      "metadata": {
        "colab": {
          "base_uri": "https://localhost:8080/"
        },
        "id": "68039acb-b7be-4e5a-b403-5d12c7501586",
        "outputId": "c2f81ef9-ea52-46bb-b3dc-53459965122f"
      },
      "outputs": [
        {
          "output_type": "stream",
          "name": "stdout",
          "text": [
            "           antecedents         consequents  antecedent support  \\\n",
            "0      (bottled water)        (whole milk)            0.213699   \n",
            "1         (rolls/buns)  (other vegetables)            0.349666   \n",
            "2   (other vegetables)        (whole milk)            0.376603   \n",
            "3         (whole milk)  (other vegetables)            0.458184   \n",
            "4             (yogurt)  (other vegetables)            0.282966   \n",
            "5         (rolls/buns)        (whole milk)            0.349666   \n",
            "6    (root vegetables)        (whole milk)            0.230631   \n",
            "7            (sausage)        (whole milk)            0.206003   \n",
            "8               (soda)        (whole milk)            0.313494   \n",
            "9     (tropical fruit)        (whole milk)            0.233710   \n",
            "10            (yogurt)        (whole milk)            0.282966   \n",
            "\n",
            "    consequent support   support  confidence      lift  representativity  \\\n",
            "0             0.458184  0.112365    0.525810  1.147597               1.0   \n",
            "1             0.376603  0.146742    0.419663  1.114335               1.0   \n",
            "2             0.458184  0.191380    0.508174  1.109106               1.0   \n",
            "3             0.376603  0.191380    0.417693  1.109106               1.0   \n",
            "4             0.376603  0.120318    0.425204  1.129050               1.0   \n",
            "5             0.458184  0.178553    0.510638  1.114484               1.0   \n",
            "6             0.458184  0.113135    0.490545  1.070630               1.0   \n",
            "7             0.458184  0.106978    0.519303  1.133394               1.0   \n",
            "8             0.458184  0.151103    0.481997  1.051973               1.0   \n",
            "9             0.458184  0.116470    0.498353  1.087672               1.0   \n",
            "10            0.458184  0.150590    0.532185  1.161510               1.0   \n",
            "\n",
            "    leverage  conviction  zhangs_metric   jaccard  certainty  kulczynski  \n",
            "0   0.014452    1.142615       0.163569  0.200825   0.124815    0.385526  \n",
            "1   0.015056    1.074197       0.157772  0.253209   0.069072    0.404654  \n",
            "2   0.018827    1.101643       0.157802  0.297448   0.092265    0.462934  \n",
            "3   0.018827    1.070564       0.181562  0.297448   0.065913    0.462934  \n",
            "4   0.013752    1.084553       0.159406  0.223121   0.077961    0.372343  \n",
            "5   0.018342    1.107190       0.157955  0.283734   0.096813    0.450168  \n",
            "6   0.007464    1.063522       0.085746  0.196524   0.059728    0.368733  \n",
            "7   0.012591    1.127146       0.148230  0.191989   0.112804    0.376393  \n",
            "8   0.007465    1.045971       0.071966  0.243489   0.043950    0.405892  \n",
            "9   0.009388    1.080076       0.105189  0.202407   0.074139    0.376276  \n",
            "10  0.020940    1.158185       0.193926  0.254996   0.136580    0.430426  \n"
          ]
        }
      ],
      "source": [
        "\n",
        "\n",
        "# Run Apriori to find frequent itemsets\n",
        "frequent_itemsets = apriori(df_encoded, min_support=0.1, use_colnames=True)\n",
        "\n",
        "# Generate rules with confidence ≥ 0.6\n",
        "rules = association_rules(frequent_itemsets, metric=\"confidence\", min_threshold=0.4)\n",
        "\n",
        "# Display the rules\n",
        "print(rules)\n"
      ]
    },
    {
      "cell_type": "code",
      "execution_count": 27,
      "id": "d8f6d73b-813c-4ed9-9ce2-696ab5133b9e",
      "metadata": {
        "colab": {
          "base_uri": "https://localhost:8080/"
        },
        "id": "d8f6d73b-813c-4ed9-9ce2-696ab5133b9e",
        "outputId": "1db6c335-4fbe-44b5-c0ed-7467d5b43b3f"
      },
      "outputs": [
        {
          "output_type": "stream",
          "name": "stdout",
          "text": [
            "\n",
            "Frequent Itemsets:\n",
            "     support                        itemsets\n",
            "0   0.119548                          (beef)\n",
            "1   0.158799                  (bottled beer)\n",
            "2   0.213699                 (bottled water)\n",
            "3   0.135967                   (brown bread)\n",
            "4   0.126475                        (butter)\n",
            "5   0.165213                   (canned beer)\n",
            "6   0.100564                       (chicken)\n",
            "7   0.185480                  (citrus fruit)\n",
            "8   0.114931                        (coffee)\n",
            "9   0.120831                          (curd)\n",
            "10  0.133145                 (domestic eggs)\n",
            "11  0.137506                   (frankfurter)\n",
            "12  0.102617             (frozen vegetables)\n",
            "13  0.124936         (fruit/vegetable juice)\n",
            "14  0.116983                     (margarine)\n",
            "15  0.139815                    (newspapers)\n",
            "16  0.376603              (other vegetables)\n",
            "17  0.177527                        (pastry)\n",
            "18  0.170600                     (pip fruit)\n",
            "19  0.132376                          (pork)\n",
            "20  0.349666                    (rolls/buns)\n",
            "21  0.230631               (root vegetables)\n",
            "22  0.206003                       (sausage)\n",
            "23  0.168291                 (shopping bags)\n",
            "24  0.313494                          (soda)\n",
            "25  0.233710                (tropical fruit)\n",
            "26  0.154695            (whipped/sour cream)\n",
            "27  0.458184                    (whole milk)\n",
            "28  0.282966                        (yogurt)\n",
            "29  0.112365     (bottled water, whole milk)\n",
            "30  0.146742  (other vegetables, rolls/buns)\n",
            "31  0.124166        (soda, other vegetables)\n",
            "32  0.191380  (other vegetables, whole milk)\n",
            "33  0.120318      (yogurt, other vegetables)\n",
            "34  0.119805              (soda, rolls/buns)\n",
            "35  0.178553        (whole milk, rolls/buns)\n",
            "36  0.111339            (yogurt, rolls/buns)\n",
            "37  0.113135   (whole milk, root vegetables)\n",
            "38  0.106978           (whole milk, sausage)\n",
            "39  0.151103              (soda, whole milk)\n",
            "40  0.116470    (tropical fruit, whole milk)\n",
            "41  0.150590            (yogurt, whole milk)\n"
          ]
        }
      ],
      "source": [
        "# 6. Display Results\n",
        "print(\"\\nFrequent Itemsets:\")\n",
        "print(frequent_itemsets)\n",
        "\n"
      ]
    },
    {
      "cell_type": "code",
      "execution_count": 28,
      "id": "411e89e9-0bf4-46c3-aa1e-9d3ec956c780",
      "metadata": {
        "id": "411e89e9-0bf4-46c3-aa1e-9d3ec956c780",
        "outputId": "6ae4754b-6e5d-421d-84af-7fd8fd964299",
        "colab": {
          "base_uri": "https://localhost:8080/"
        }
      },
      "outputs": [
        {
          "output_type": "stream",
          "name": "stdout",
          "text": [
            "\n",
            "Association Rules:\n",
            "           antecedents         consequents  antecedent support  \\\n",
            "0      (bottled water)        (whole milk)            0.213699   \n",
            "1         (rolls/buns)  (other vegetables)            0.349666   \n",
            "2   (other vegetables)        (whole milk)            0.376603   \n",
            "3         (whole milk)  (other vegetables)            0.458184   \n",
            "4             (yogurt)  (other vegetables)            0.282966   \n",
            "5         (rolls/buns)        (whole milk)            0.349666   \n",
            "6    (root vegetables)        (whole milk)            0.230631   \n",
            "7            (sausage)        (whole milk)            0.206003   \n",
            "8               (soda)        (whole milk)            0.313494   \n",
            "9     (tropical fruit)        (whole milk)            0.233710   \n",
            "10            (yogurt)        (whole milk)            0.282966   \n",
            "\n",
            "    consequent support   support  confidence      lift  representativity  \\\n",
            "0             0.458184  0.112365    0.525810  1.147597               1.0   \n",
            "1             0.376603  0.146742    0.419663  1.114335               1.0   \n",
            "2             0.458184  0.191380    0.508174  1.109106               1.0   \n",
            "3             0.376603  0.191380    0.417693  1.109106               1.0   \n",
            "4             0.376603  0.120318    0.425204  1.129050               1.0   \n",
            "5             0.458184  0.178553    0.510638  1.114484               1.0   \n",
            "6             0.458184  0.113135    0.490545  1.070630               1.0   \n",
            "7             0.458184  0.106978    0.519303  1.133394               1.0   \n",
            "8             0.458184  0.151103    0.481997  1.051973               1.0   \n",
            "9             0.458184  0.116470    0.498353  1.087672               1.0   \n",
            "10            0.458184  0.150590    0.532185  1.161510               1.0   \n",
            "\n",
            "    leverage  conviction  zhangs_metric   jaccard  certainty  kulczynski  \n",
            "0   0.014452    1.142615       0.163569  0.200825   0.124815    0.385526  \n",
            "1   0.015056    1.074197       0.157772  0.253209   0.069072    0.404654  \n",
            "2   0.018827    1.101643       0.157802  0.297448   0.092265    0.462934  \n",
            "3   0.018827    1.070564       0.181562  0.297448   0.065913    0.462934  \n",
            "4   0.013752    1.084553       0.159406  0.223121   0.077961    0.372343  \n",
            "5   0.018342    1.107190       0.157955  0.283734   0.096813    0.450168  \n",
            "6   0.007464    1.063522       0.085746  0.196524   0.059728    0.368733  \n",
            "7   0.012591    1.127146       0.148230  0.191989   0.112804    0.376393  \n",
            "8   0.007465    1.045971       0.071966  0.243489   0.043950    0.405892  \n",
            "9   0.009388    1.080076       0.105189  0.202407   0.074139    0.376276  \n",
            "10  0.020940    1.158185       0.193926  0.254996   0.136580    0.430426  \n"
          ]
        }
      ],
      "source": [
        "print(\"\\nAssociation Rules:\")\n",
        "print(rules)\n",
        "\n"
      ]
    },
    {
      "cell_type": "code",
      "execution_count": 31,
      "id": "9295971a-65ac-4d37-a6ce-a5192bca8d08",
      "metadata": {
        "id": "9295971a-65ac-4d37-a6ce-a5192bca8d08",
        "outputId": "5226c51a-4bec-4b54-9353-1445cd816b21",
        "colab": {
          "base_uri": "https://localhost:8080/"
        }
      },
      "outputs": [
        {
          "output_type": "stream",
          "name": "stdout",
          "text": [
            "\n",
            "Rules with high confidence:\n",
            "           antecedents   consequents  antecedent support  consequent support  \\\n",
            "0      (bottled water)  (whole milk)            0.213699            0.458184   \n",
            "2   (other vegetables)  (whole milk)            0.376603            0.458184   \n",
            "5         (rolls/buns)  (whole milk)            0.349666            0.458184   \n",
            "7            (sausage)  (whole milk)            0.206003            0.458184   \n",
            "10            (yogurt)  (whole milk)            0.282966            0.458184   \n",
            "\n",
            "     support  confidence      lift  representativity  leverage  conviction  \\\n",
            "0   0.112365    0.525810  1.147597               1.0  0.014452    1.142615   \n",
            "2   0.191380    0.508174  1.109106               1.0  0.018827    1.101643   \n",
            "5   0.178553    0.510638  1.114484               1.0  0.018342    1.107190   \n",
            "7   0.106978    0.519303  1.133394               1.0  0.012591    1.127146   \n",
            "10  0.150590    0.532185  1.161510               1.0  0.020940    1.158185   \n",
            "\n",
            "    zhangs_metric   jaccard  certainty  kulczynski  \n",
            "0        0.163569  0.200825   0.124815    0.385526  \n",
            "2        0.157802  0.297448   0.092265    0.462934  \n",
            "5        0.157955  0.283734   0.096813    0.450168  \n",
            "7        0.148230  0.191989   0.112804    0.376393  \n",
            "10       0.193926  0.254996   0.136580    0.430426  \n"
          ]
        }
      ],
      "source": [
        "# 7. Example filtering rules.\n",
        "print(\"\\nRules with high confidence:\")\n",
        "print(rules[rules['confidence'] >= 0.5]) #example filter\n"
      ]
    },
    {
      "cell_type": "code",
      "execution_count": 32,
      "id": "9aced6e4-e1aa-4451-99a2-19811a40e4b0",
      "metadata": {
        "id": "9aced6e4-e1aa-4451-99a2-19811a40e4b0",
        "outputId": "425eb14b-ab03-420e-f25b-37651480d901",
        "colab": {
          "base_uri": "https://localhost:8080/"
        }
      },
      "outputs": [
        {
          "output_type": "stream",
          "name": "stdout",
          "text": [
            "\n",
            "Rules sorted by lift:\n",
            "           antecedents         consequents  antecedent support  \\\n",
            "10            (yogurt)        (whole milk)            0.282966   \n",
            "0      (bottled water)        (whole milk)            0.213699   \n",
            "7            (sausage)        (whole milk)            0.206003   \n",
            "4             (yogurt)  (other vegetables)            0.282966   \n",
            "5         (rolls/buns)        (whole milk)            0.349666   \n",
            "1         (rolls/buns)  (other vegetables)            0.349666   \n",
            "2   (other vegetables)        (whole milk)            0.376603   \n",
            "3         (whole milk)  (other vegetables)            0.458184   \n",
            "9     (tropical fruit)        (whole milk)            0.233710   \n",
            "6    (root vegetables)        (whole milk)            0.230631   \n",
            "\n",
            "    consequent support   support  confidence      lift  representativity  \\\n",
            "10            0.458184  0.150590    0.532185  1.161510               1.0   \n",
            "0             0.458184  0.112365    0.525810  1.147597               1.0   \n",
            "7             0.458184  0.106978    0.519303  1.133394               1.0   \n",
            "4             0.376603  0.120318    0.425204  1.129050               1.0   \n",
            "5             0.458184  0.178553    0.510638  1.114484               1.0   \n",
            "1             0.376603  0.146742    0.419663  1.114335               1.0   \n",
            "2             0.458184  0.191380    0.508174  1.109106               1.0   \n",
            "3             0.376603  0.191380    0.417693  1.109106               1.0   \n",
            "9             0.458184  0.116470    0.498353  1.087672               1.0   \n",
            "6             0.458184  0.113135    0.490545  1.070630               1.0   \n",
            "\n",
            "    leverage  conviction  zhangs_metric   jaccard  certainty  kulczynski  \n",
            "10  0.020940    1.158185       0.193926  0.254996   0.136580    0.430426  \n",
            "0   0.014452    1.142615       0.163569  0.200825   0.124815    0.385526  \n",
            "7   0.012591    1.127146       0.148230  0.191989   0.112804    0.376393  \n",
            "4   0.013752    1.084553       0.159406  0.223121   0.077961    0.372343  \n",
            "5   0.018342    1.107190       0.157955  0.283734   0.096813    0.450168  \n",
            "1   0.015056    1.074197       0.157772  0.253209   0.069072    0.404654  \n",
            "2   0.018827    1.101643       0.157802  0.297448   0.092265    0.462934  \n",
            "3   0.018827    1.070564       0.181562  0.297448   0.065913    0.462934  \n",
            "9   0.009388    1.080076       0.105189  0.202407   0.074139    0.376276  \n",
            "6   0.007464    1.063522       0.085746  0.196524   0.059728    0.368733  \n"
          ]
        }
      ],
      "source": [
        "print(\"\\nRules sorted by lift:\")\n",
        "print(rules.sort_values(by=\"lift\", ascending=False).head(10)) #example sort"
      ]
    },
    {
      "cell_type": "code",
      "execution_count": 33,
      "id": "c465c560-6a3e-4464-addc-e4887c643aca",
      "metadata": {
        "id": "c465c560-6a3e-4464-addc-e4887c643aca",
        "outputId": "5661f02d-9ca3-4ae5-e2e9-5356fc32c3d9",
        "colab": {
          "base_uri": "https://localhost:8080/",
          "height": 564
        }
      },
      "outputs": [
        {
          "output_type": "display_data",
          "data": {
            "text/plain": [
              "<Figure size 800x600 with 1 Axes>"
            ],
            "image/png": "[encoded data removed]"
          },
          "metadata": {}
        }
      ],
      "source": [
        "# 5. Visualization: Scatter plot of support vs. confidence\n",
        "def plot_scatter_support_confidence(rules):\n",
        "\n",
        "    plt.figure(figsize=(8, 6))\n",
        "    plt.scatter(rules['support'], rules['confidence'], alpha=0.5)\n",
        "    plt.xlabel('Support')\n",
        "    plt.ylabel('Confidence')\n",
        "    plt.title('Support vs. Confidence')\n",
        "    plt.grid(True)\n",
        "    plt.show()\n",
        "\n",
        "plot_scatter_support_confidence(rules)"
      ]
    },
    {
      "cell_type": "code",
      "execution_count": 34,
      "id": "f680e32c-c39c-4e2c-a7ae-1d203e51209c",
      "metadata": {
        "id": "f680e32c-c39c-4e2c-a7ae-1d203e51209c",
        "outputId": "bb5d9bfd-d1b1-4871-f028-a5cf47d9c2a3",
        "colab": {
          "base_uri": "https://localhost:8080/",
          "height": 564
        }
      },
      "outputs": [
        {
          "output_type": "display_data",
          "data": {
            "text/plain": [
              "<Figure size 800x600 with 1 Axes>"
            ],
            "image/png": "[encoded data removed]"
          },
          "metadata": {}
        }
      ],
      "source": [
        "# 6. Visualization: Scatter plot of support vs. lift\n",
        "def plot_scatter_support_lift(rules):\n",
        "    \"\"\"Plots a scatter plot of support vs. lift.\"\"\"\n",
        "    plt.figure(figsize=(8, 6))\n",
        "    plt.scatter(rules['support'], rules['lift'], alpha=0.5)\n",
        "    plt.xlabel('Support')\n",
        "    plt.ylabel('Lift')\n",
        "    plt.title('Support vs. Lift')\n",
        "    plt.grid(True)\n",
        "    plt.show()\n",
        "\n",
        "plot_scatter_support_lift(rules)"
      ]
    },
    {
      "cell_type": "code",
      "execution_count": null,
      "id": "57475dc6-4298-49a2-b772-3a6ff4881f66",
      "metadata": {
        "id": "57475dc6-4298-49a2-b772-3a6ff4881f66"
      },
      "outputs": [],
      "source": []
    }
  ],
  "metadata": {
    "kernelspec": {
      "display_name": "Python 3 (ipykernel)",
      "language": "python",
      "name": "python3"
    },
    "language_info": {
      "codemirror_mode": {
        "name": "ipython",
        "version": 3
      },
      "file_extension": ".py",
      "mimetype": "text/x-python",
      "name": "python",
      "nbconvert_exporter": "python",
      "pygments_lexer": "ipython3",
      "version": "3.12.3"
    },
    "colab": {
      "provenance": []
    }
  },
  "nbformat": 4,
  "nbformat_minor": 5
}